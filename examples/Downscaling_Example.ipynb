{
 "cells": [
  {
   "cell_type": "markdown",
   "metadata": {},
   "source": [
    "## MimiBRICK Downscaling Example\n",
    "\n",
    "This notebook contain a examples of the downscaling functionalities in the MimiBRICK.jl package."
   ]
  },
  {
   "cell_type": "markdown",
   "metadata": {},
   "source": [
    "### Step 1. Environment Setup\n",
    "\n",
    "For this example, this notebook will run using the environment defined by the `Manifest.toml` and \"Project.toml\" files within this `examples` folder.  If you wish to follow along and type these out on your local machine, you will need to set up a matching Julia environment with the same files.\n",
    "\n",
    "To do so, either add the packages listed in the `Project.toml` and printed below after `Pkg.status()`, or feel free to copy over the two environment files (`Project.toml` and `Manifest.toml`) onto your local machine and then activate the environment with either `Pkg.activate(\".\")` or `]` to enter the Pkg REPL followed by `activate .` and then a backspace to exict the Pkg REPL)."
   ]
  },
  {
   "cell_type": "code",
   "execution_count": 1,
   "metadata": {},
   "outputs": [
    {
     "name": "stderr",
     "output_type": "stream",
     "text": [
      "\u001b[32m\u001b[1m  Activating\u001b[22m\u001b[39m environment at `~/.julia/dev/MimiBRICK/examples/Project.toml`\n"
     ]
    },
    {
     "name": "stdout",
     "output_type": "stream",
     "text": [
      "\u001b[32m\u001b[1m      Status\u001b[22m\u001b[39m "
     ]
    },
    {
     "name": "stdout",
     "output_type": "stream",
     "text": [
      "`~/.julia/dev/MimiBRICK/examples/Project.toml`\n",
      " \u001b[90m [5d742f6a] \u001b[39mCSVFiles v1.0.1\n",
      " \u001b[90m [a93c6f00] \u001b[39mDataFrames v1.3.4\n",
      " \u001b[90m [91f4afc7] \u001b[39mMimiBRICK v1.0.0-DEV `https://github.com/raddleverse/MimiBRICK.jl#master`\n",
      " \u001b[90m [3f1801d0] \u001b[39mMimiSNEASY v1.0.3-DEV `https://github.com/anthofflab/MimiSNEASY.jl#master`\n",
      " \u001b[90m [8dfed614] \u001b[39mTest\n"
     ]
    }
   ],
   "source": [
    "# Activate the examples environment \n",
    "using Pkg\n",
    "Pkg.activate(\".\")\n",
    "Pkg.status() # Check which packages are loaded"
   ]
  },
  {
   "cell_type": "code",
   "execution_count": 2,
   "metadata": {},
   "outputs": [],
   "source": [
    "using MimiBRICK"
   ]
  },
  {
   "cell_type": "markdown",
   "metadata": {},
   "source": [
    "### Step 2. Directories and Data"
   ]
  },
  {
   "cell_type": "markdown",
   "metadata": {},
   "source": [
    "First we define and create the directory that will hold the results. In this case we will create a folder `downscaling_results` in the current `examples` directory."
   ]
  },
  {
   "cell_type": "code",
   "execution_count": 3,
   "metadata": {},
   "outputs": [],
   "source": [
    "my_output_dir = joinpath(@__DIR__, \"downscaling_results\")\n",
    "\n",
    "# if the path already exists, clean it out\n",
    "isdir(my_output_dir) ? rm(my_output_dir, recursive = true) : nothing\n",
    "\n",
    "# recreate the folder\n",
    "mkpath(my_output_dir);"
   ]
  },
  {
   "cell_type": "markdown",
   "metadata": {},
   "source": [
    "Next we download the necessary files from our Zenodo repository into this folder."
   ]
  },
  {
   "cell_type": "code",
   "execution_count": 4,
   "metadata": {},
   "outputs": [],
   "source": [
    "# TONY TODO"
   ]
  },
  {
   "cell_type": "markdown",
   "metadata": {},
   "source": [
    "### Step 3. Run Downscaling"
   ]
  },
  {
   "cell_type": "markdown",
   "metadata": {},
   "source": [
    "Finally we use the `MimiBRICK.downscale_brick` function to downscale the BRICK global sea level projections to local. The `MimiBRICK.downscale_brick` function downscales the BRICK global sea level projections to local. This uses the sea-level \"fingerprints\" of [Slangen et al. (2014)](https://link.springer.com/article/10.1007/s10584-014-1080-9). \n",
    "\n",
    "This routine will downscale either a full ensemble of BRICK model simulations or just the maximum a posteriori model simulation to a specific latitude and longitude point. These are provided by the user as lat (degrees north) and lon (degrees east). Other needed function arguments include:\n",
    "\n",
    "- `results_dir` - (String) the directory holding model outputs\n",
    "- `model_config` - (String) one of \"brick\", \"doeclimbrick\", or \"sneasybrick\". Only the BRICK projections are being downscaled (no CO2 or temperature, for example), but the downscale_brick function will find the relevant input - data and tag the output files appropriately based on the model_config setting.\n",
    "- `proj_or_hind` - (String) one of \"proj\" (projections) or \"hind\" (hindcast). They're treated similarly when running the model, but this helps for finding the output files in the results_dir directories.\n",
    "- `rcp_scenario` - (String, default = \"RCP85\") one of \"RCP26\", \"RCP45\", \"RCP60\", or \"RCP85\". If running a hindcast, this does not matter.\n",
    "- `ensemble_or_map` - (String) one of \"ensemble\" or \"map\". If \"ensemble\", then will downscale the full BRICK ensemble that matches the provided model_config, proj_or_hind, and rcp_scenario settings. If \"map\", will only - downscale the maximum a posteriori simulation.\n",
    "\n",
    "The downscaling routine will automatically create a subdirectory in the output directory's `hindcast_csv` or `projections_csv/RCPXX/` subdirectory (depending on specification of `proj_or_hind` argument) called `localslr`. In this subdirectory, the routine will save an output file with the downscaled local mean sea level change model output."
   ]
  },
  {
   "cell_type": "markdown",
   "metadata": {},
   "source": [
    "\n",
    "The `MimiBRICK.downscale_brick` function signature is as follows:\n",
    "\n",
    "        downscale_brick(;lon::Float64, \n",
    "                                    lat::Float64, \n",
    "                                    results_dir::String, \n",
    "                                    proj_or_hind::String, \n",
    "                                    ensemble_or_map::String, \n",
    "                                    model_config::String, \n",
    "                                    rcp_scenario::String=\"RCP85\"\n",
    "                                )\n",
    "\n",
    "_Arguments:_\n",
    "\n",
    "- _lon = longitude (degrees East) of location for downscaling_\n",
    "- _lat = latitude (degrees North) of location for downscaling_\n",
    "- _results_dir = the top level directory of results_\n",
    "- _proj_or_hind = \"proj\" for projections, or \"hind\" for hindcast_\n",
    "- _ensemble_or_map = \"ensemble\" for entire posterior ensemble, or \"map\" for the maximum a posteriori ensemble member (single simulation)_\n",
    "- _model_config = \"brick\", \"doeclimbrick\", or \"sneasybrick\"_\n",
    "- _rcp_scenario = \"RCP26\", \"RCP45\", \"RCP60\", or \"RCP85\" (default). Doesn't matter for hindcast._"
   ]
  },
  {
   "cell_type": "markdown",
   "metadata": {},
   "source": [
    "In this example we will downscale to the location of New York City, so we first set the `lat` and `lon` variables to be passed as arguments to `downsacle_brick`."
   ]
  },
  {
   "cell_type": "code",
   "execution_count": 4,
   "metadata": {},
   "outputs": [],
   "source": [
    "# Lat and Lon for New York City\n",
    "lat=40.7128 # deg N\n",
    "lon=360-74.0060; # 74.0060 deg W"
   ]
  },
  {
   "cell_type": "markdown",
   "metadata": {},
   "source": [
    "Next we run the `downscale_brick` function, both for projections and hindcasts, using the `ensemble` option (`ensemble_or_map=\"ensemble\"`), which will downscale the full BRICK ensemble."
   ]
  },
  {
   "cell_type": "code",
   "execution_count": 7,
   "metadata": {},
   "outputs": [],
   "source": [
    "# downscale hindcast\n",
    "years, lsl_hind_ens=MimiBRICK.downscale_brick(lon=lon, lat=lat, results_dir=my_output_dir, proj_or_hind=\"hind\", ensemble_or_map=\"ensemble\", model_config=\"brick\", rcp_scenario=\"RCP85\");\n",
    "\n",
    "# downscale proejction\n",
    "years, lsl_proj_ens=MimiBRICK.downscale_brick(lon=lon, lat=lat, results_dir=my_output_dir, proj_or_hind=\"proj\", ensemble_or_map=\"ensemble\", model_config=\"brick\", rcp_scenario=\"RCP85\");"
   ]
  },
  {
   "cell_type": "markdown",
   "metadata": {},
   "source": [
    "A second option is to use the `map` option (`ensemble_or_map=\"map\"`), which will only downscale the maximum a posteriori simulation. **NOTE** this will overwrite the files produced in the previous cell."
   ]
  },
  {
   "cell_type": "code",
   "execution_count": 6,
   "metadata": {},
   "outputs": [],
   "source": [
    "# downscale hindcast\n",
    "years, lsl_hind_ens=MimiBRICK.downscale_brick(lon=lon, lat=lat, results_dir=my_output_dir, proj_or_hind=\"hind\", ensemble_or_map=\"map\", model_config=\"brick\", rcp_scenario=\"RCP85\");\n",
    "\n",
    "# downscale proejction\n",
    "years, lsl_proj_ens=MimiBRICK.downscale_brick(lon=lon, lat=lat, results_dir=my_output_dir, proj_or_hind=\"proj\", ensemble_or_map=\"map\", model_config=\"brick\", rcp_scenario=\"RCP85\");"
   ]
  },
  {
   "cell_type": "markdown",
   "metadata": {},
   "source": [
    "#### "
   ]
  }
 ],
 "metadata": {
  "kernelspec": {
   "display_name": "Julia 1.6.6",
   "language": "julia",
   "name": "julia-1.6"
  },
  "language_info": {
   "file_extension": ".jl",
   "mimetype": "application/julia",
   "name": "julia",
   "version": "1.6.6"
  },
  "orig_nbformat": 4
 },
 "nbformat": 4,
 "nbformat_minor": 2
}
