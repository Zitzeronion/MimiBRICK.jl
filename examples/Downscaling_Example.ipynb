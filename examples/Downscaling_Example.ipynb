{
 "cells": [
  {
   "cell_type": "markdown",
   "metadata": {},
   "source": [
    "## MimiBRICK Downscaling Example\n",
    "\n",
    "This notebook contain examples of the downscaling functionalities in the MimiBRICK.jl package."
   ]
  },
  {
   "cell_type": "markdown",
   "metadata": {},
   "source": [
    "### Step 1. Environment Setup\n",
    "\n",
    "For this example, this notebook will run using the environment defined by the `Manifest.toml` and `Project.toml` files within this `examples` folder.  If you wish to follow along and type these out on your local machine, you will need to set up a matching Julia environment. Since MimiBRICK is the only required package, this is most easily done with the following code in your REPL:"
   ]
  },
  {
   "cell_type": "markdown",
   "metadata": {},
   "source": [
    "`using Pkg`\n",
    "\n",
    "and \n",
    "\n",
    "`Pkg.add(MimiBRICK)`\n",
    "\n",
    "\n",
    "or equivalently use the `]` key to enter the Pkg REPL, then `add MimiBRICK` followed by backspace to exit the Pkg REPL."
   ]
  },
  {
   "cell_type": "markdown",
   "metadata": {},
   "source": [
    "The following activates the environment within this notebook."
   ]
  },
  {
   "cell_type": "code",
   "execution_count": null,
   "metadata": {},
   "outputs": [],
   "source": [
    "# Activate the examples environment \n",
    "using Pkg # here in case you didn't need to run the above command to instantiate\n",
    "Pkg.activate(\".\")\n",
    "Pkg.instantiate()\n",
    "Pkg.status() # Check which packages are loaded"
   ]
  },
  {
   "cell_type": "markdown",
   "metadata": {},
   "source": [
    "Now we use the following to load `MimiBRICK`"
   ]
  },
  {
   "cell_type": "code",
   "execution_count": null,
   "metadata": {},
   "outputs": [],
   "source": [
    "using MimiBRICK"
   ]
  },
  {
   "cell_type": "markdown",
   "metadata": {},
   "source": [
    "### Step 2. Directories and Data"
   ]
  },
  {
   "cell_type": "markdown",
   "metadata": {},
   "source": [
    "First we define and create the directory that will hold the results. In this case we will create a folder `downscaling_results` in the current `examples` directory."
   ]
  },
  {
   "cell_type": "code",
   "execution_count": null,
   "metadata": {},
   "outputs": [],
   "source": [
    "my_output_dir = joinpath(@__DIR__, \"downscaling_results\")\n",
    "\n",
    "# if the path already exists, clean it out\n",
    "isdir(my_output_dir) ? rm(my_output_dir, recursive = true) : nothing\n",
    "\n",
    "# recreate the folder\n",
    "mkpath(my_output_dir);"
   ]
  },
  {
   "cell_type": "markdown",
   "metadata": {},
   "source": [
    "Next we can download the necessary files from our Zenodo repository into this folder. This example uses the model projections resulting from the parameter samples for the BRICK standalone simulations. Parameter sets and ensemble simulations for the other model configurations (DOECLIM-BRICK and SNEASY-BRICK) can be found in the Zenodo repository here: https://zenodo.org/record/6626335.\n",
    "\n",
    "Alternatively, you can use your own previous simulations (say, some that you created from the `HindcastProjections_Example.ipynb` notebook)."
   ]
  },
  {
   "cell_type": "code",
   "execution_count": null,
   "metadata": {
    "scrolled": true
   },
   "outputs": [],
   "source": [
    "# get the zip folder of model output for projections\n",
    "filename = \"brick_projections_csv.zip\"\n",
    "gmslfile = joinpath(my_output_dir,filename)\n",
    "#if !isdir(gmslfile[1:(end-4)])\n",
    "if !isfile(gmslfile)\n",
    "    url = \"https://zenodo.org/record/6626335/files/\"*filename\n",
    "    download(url, gmslfile)\n",
    "    run(pipeline(`unzip $(gmslfile) -d $(my_output_dir)`));\n",
    "end"
   ]
  },
  {
   "cell_type": "markdown",
   "metadata": {},
   "source": [
    "### Step 3. Run Downscaling"
   ]
  },
  {
   "cell_type": "markdown",
   "metadata": {},
   "source": [
    "Finally we use the `MimiBRICK.downscale_brick` function to downscale the BRICK global sea level projections to local. The `MimiBRICK.downscale_brick` function downscales the BRICK global sea level projections to local. This uses the sea-level \"fingerprints\" of [Slangen et al. (2014)](https://link.springer.com/article/10.1007/s10584-014-1080-9). \n",
    "\n",
    "This routine will downscale either a full ensemble of BRICK model simulations or just the maximum a posteriori model simulation to a specific latitude and longitude point. These are provided by the user as lat (degrees north) and lon (degrees east). Other needed function arguments include:\n",
    "\n",
    "- `results_dir` - (String) the directory holding model outputs\n",
    "- `model_config` - (String) one of \"brick\", \"doeclimbrick\", or \"sneasybrick\". Only the BRICK projections are being downscaled (no CO2 or temperature, for example), but the downscale_brick function will find the relevant input - data and tag the output files appropriately based on the model_config setting.\n",
    "- `proj_or_hind` - (String) one of \"proj\" (projections) or \"hind\" (hindcast). They're treated similarly when running the model, but this helps for finding the output files in the results directories.\n",
    "- `rcp_scenario` - (String, default = \"RCP85\") one of \"RCP26\", \"RCP45\", \"RCP60\", or \"RCP85\". If running a hindcast, this does not matter.\n",
    "- `ensemble_or_map` - (String) one of \"ensemble\" or \"map\". If \"ensemble\", then will downscale the full BRICK ensemble that matches the provided model_config, proj_or_hind, and rcp_scenario settings. If \"map\", will only - downscale the maximum a posteriori simulation.\n",
    "\n",
    "The downscaling routine will automatically create a subdirectory in the output directory's `hindcast_csv` or `projections_csv/RCPXX/` subdirectory (depending on specification of `proj_or_hind` argument) called `localslr`. In this subdirectory, the routine will save an output file with the downscaled local mean sea level change model output."
   ]
  },
  {
   "cell_type": "markdown",
   "metadata": {},
   "source": [
    "\n",
    "The `MimiBRICK.downscale_brick` function signature is as follows:\n",
    "\n",
    "        downscale_brick(;lon::Float64, \n",
    "                                    lat::Float64, \n",
    "                                    results_dir::String, \n",
    "                                    proj_or_hind::String, \n",
    "                                    ensemble_or_map::String, \n",
    "                                    model_config::String, \n",
    "                                    rcp_scenario::String=\"RCP85\"\n",
    "                                )\n",
    "\n",
    "_Arguments:_\n",
    "\n",
    "- _lon = longitude (degrees East) of location for downscaling_\n",
    "- _lat = latitude (degrees North) of location for downscaling_\n",
    "- _results_dir = the top level directory of results_\n",
    "- _proj_or_hind = \"proj\" for projections, or \"hind\" for hindcast_\n",
    "- _ensemble_or_map = \"ensemble\" for entire posterior ensemble, or \"map\" for the maximum a posteriori ensemble member (single simulation)_\n",
    "- _model_config = \"brick\", \"doeclimbrick\", or \"sneasybrick\"_\n",
    "- _rcp_scenario = \"RCP26\", \"RCP45\", \"RCP60\", or \"RCP85\" (default). Doesn't matter for hindcast._"
   ]
  },
  {
   "cell_type": "markdown",
   "metadata": {},
   "source": [
    "In this example we will downscale to the location of New York City, so we first set the `lat` and `lon` variables to be passed as arguments to `downsacle_brick`."
   ]
  },
  {
   "cell_type": "code",
   "execution_count": null,
   "metadata": {},
   "outputs": [],
   "source": [
    "# Lat and Lon for New York City\n",
    "lat = 40.7128        # deg N\n",
    "lon = 360 - 74.0060  # 74.0060 deg W"
   ]
  },
  {
   "cell_type": "markdown",
   "metadata": {},
   "source": [
    "Next we run the `downscale_brick` function for local sea-level projections, using the `ensemble` option (`ensemble_or_map=\"ensemble\"`), which will downscale the full BRICK ensemble."
   ]
  },
  {
   "cell_type": "code",
   "execution_count": null,
   "metadata": {},
   "outputs": [],
   "source": [
    "years, lsl_proj_ens = MimiBRICK.downscale_brick(lon=lon, lat=lat, results_dir=my_output_dir, \n",
    "                                                proj_or_hind=\"proj\", ensemble_or_map=\"ensemble\", \n",
    "                                                model_config=\"brick\", rcp_scenario=\"RCP85\");"
   ]
  },
  {
   "cell_type": "markdown",
   "metadata": {},
   "source": [
    "A second option is to use the `map` option (`ensemble_or_map=\"map\"`), which will only downscale the maximum a posteriori simulation. **NOTE** this will overwrite the files produced in the previous cell."
   ]
  },
  {
   "cell_type": "code",
   "execution_count": null,
   "metadata": {},
   "outputs": [],
   "source": [
    "years, lsl_proj_ens = MimiBRICK.downscale_brick(lon=lon, lat=lat, results_dir=my_output_dir, \n",
    "                                                proj_or_hind=\"proj\", ensemble_or_map=\"map\", \n",
    "                                                model_config=\"brick\", rcp_scenario=\"RCP85\");"
   ]
  },
  {
   "cell_type": "markdown",
   "metadata": {},
   "source": [
    "#### "
   ]
  }
 ],
 "metadata": {
  "kernelspec": {
   "display_name": "Julia 1.6.7",
   "language": "julia",
   "name": "julia-1.6"
  },
  "language_info": {
   "file_extension": ".jl",
   "mimetype": "application/julia",
   "name": "julia",
   "version": "1.6.7"
  }
 },
 "nbformat": 4,
 "nbformat_minor": 2
}
