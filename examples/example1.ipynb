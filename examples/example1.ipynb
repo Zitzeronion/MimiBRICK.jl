{
 "cells": [
  {
   "cell_type": "markdown",
   "metadata": {},
   "source": [
    "# MimiBRICK Examples\n",
    "\n",
    "This notebook contains examples of the different use cases for MimiBRICK.jl"
   ]
  },
  {
   "cell_type": "markdown",
   "metadata": {},
   "source": [
    "### Environment Setup\n",
    "\n",
    "First we will set up the environment indicated by the Manifest.toml and Project.toml files within this folder.  Note that if you wish to run these examples on your machine, you will need to set up a Julia environment with the same packages.  Feel free to use the `.toml` files from this folder, simply copying them into your own working directory to define your environment to match the notebook."
   ]
  },
  {
   "cell_type": "code",
   "execution_count": 2,
   "metadata": {},
   "outputs": [
    {
     "name": "stdout",
     "output_type": "stream",
     "text": [
      "\u001b[32m\u001b[1m      Status\u001b[22m\u001b[39m `~/.julia/dev/MimiBRICK/examples/Project.toml`\n",
      " \u001b[90m [5d742f6a] \u001b[39mCSVFiles v1.0.1\n",
      " \u001b[90m [a93c6f00] \u001b[39mDataFrames v1.3.3\n",
      " \u001b[90m [91f4afc7] \u001b[39mMimiBRICK v1.0.0-DEV `~/.julia/dev/MimiBRICK`\n",
      " \u001b[90m [3f1801d0] \u001b[39mMimiSNEASY v1.0.2-DEV `https://github.com/anthofflab/MimiSNEASY.jl#master`\n"
     ]
    },
    {
     "name": "stderr",
     "output_type": "stream",
     "text": [
      "\u001b[32m\u001b[1m  Activating\u001b[22m\u001b[39m environment at `~/.julia/dev/MimiBRICK/examples/Project.toml`\n"
     ]
    }
   ],
   "source": [
    "# Activate the examples environment \n",
    "using Pkg\n",
    "Pkg.activate(\".\")\n",
    "Pkg.status() # Check which packages are loaded"
   ]
  },
  {
   "cell_type": "markdown",
   "metadata": {},
   "source": [
    "### Generating projections of local mean sea-level change\n",
    "\n",
    "The `src/downscale.jl` file contains routines to downscale the BRICK global sea level projections to local. This uses the sea-level \"fingerprints\" of [Slangen et al. (2014)](https://link.springer.com/article/10.1007/s10584-014-1080-9)."
   ]
  },
  {
   "cell_type": "code",
   "execution_count": 3,
   "metadata": {},
   "outputs": [],
   "source": [
    "using MimiBRICK\n",
    "\n",
    "# First we define an example coordinate, this one being New York City, as well as specifications\n",
    "# for the desired downscaling.\n",
    "\n",
    "lat = 40.7128 # deg N\n",
    "lon = 360-74.0060 # 74.0060 deg W\n",
    "model_config = \"brick\"\n",
    "proj_or_hind = \"proj\"\n",
    "rcp_scenario = \"RCP85\"\n",
    "ensemble_or_map = \"map\";"
   ]
  },
  {
   "cell_type": "code",
   "execution_count": null,
   "metadata": {},
   "outputs": [],
   "source": [
    "years, lsl = MimiBRICK.downscale_brick(lon=lon, lat=lat, proj_or_hind=proj_or_hind, ensemble_or_map=ensemble_or_map, model_config=model_config, rcp_scenario=rcp_scenario)\n",
    "\n",
    "# TODO generalize the downscale_brick function in terms of the inputs files if we want to use this for examples"
   ]
  },
  {
   "cell_type": "code",
   "execution_count": null,
   "metadata": {},
   "outputs": [],
   "source": []
  }
 ],
 "metadata": {
  "kernelspec": {
   "display_name": "Julia 1.6.5",
   "language": "julia",
   "name": "julia-1.6"
  },
  "language_info": {
   "file_extension": ".jl",
   "mimetype": "application/julia",
   "name": "julia",
   "version": "1.6.5"
  },
  "orig_nbformat": 4
 },
 "nbformat": 4,
 "nbformat_minor": 2
}
