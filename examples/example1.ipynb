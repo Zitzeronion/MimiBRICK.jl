{
 "cells": [
  {
   "cell_type": "code",
   "execution_count": 1,
   "metadata": {},
   "outputs": [],
   "source": [
    "using Pkg\n",
    "Pkg.activate()"
   ]
  },
  {
   "cell_type": "code",
   "execution_count": null,
   "metadata": {},
   "outputs": [],
   "source": [
    "# Example - New York City\n",
    "lat = 40.7128 # deg N\n",
    "lon = 360-74.0060 # 74.0060 deg W\n",
    "model_config = \"brick\"\n",
    "proj_or_hind = \"proj\"\n",
    "rcp_scenario = \"RCP85\"\n",
    "ensemble_or_map = \"map\"\n",
    "\n",
    "# Example: using RCP8.5 projections and the maximum a posteriori ensemble member under\n",
    "years, lsl = MimiBRICK.downscale_brick(lon=lon, lat=lat, proj_or_hind=proj_or_hind, ensemble_or_map=ensemble_or_map, model_config=model_config, rcp_scenario=rcp_scenario)"
   ]
  }
 ],
 "metadata": {
  "kernelspec": {
   "display_name": "Julia 1.7.2",
   "language": "julia",
   "name": "julia-1.7"
  },
  "language_info": {
   "file_extension": ".jl",
   "mimetype": "application/julia",
   "name": "julia",
   "version": "1.7.2"
  },
  "orig_nbformat": 4
 },
 "nbformat": 4,
 "nbformat_minor": 2
}
