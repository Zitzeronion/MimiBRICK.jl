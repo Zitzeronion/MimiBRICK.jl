{
 "cells": [
  {
   "cell_type": "markdown",
   "metadata": {},
   "source": [
    "## MimiBRICK Calibration Example\n",
    "\n",
    "This notebook contain an example of the calibration functionalities in the MimiBRICK.jl package, as well as run projections and hindcasts off of the calibration step, and downscaling the results. For more detailed descriptions of the functions to run projections and hindcasts, and perform downscaling, see the `HindcastProjections_Example.ipynb` and `Downscaling_Example.ipynb` files respectively. The `calibration_driver.jl` script is provided here in the `/examples` directory too, as it was used to generate the large ensembles on [Zenodo](https://zenodo.org/record/6626335) that are used in downscaling and hindcast/projections examples, in lieu of new user-defined model simulations."
   ]
  },
  {
   "cell_type": "markdown",
   "metadata": {},
   "source": [
    "### Step 1. Environment Setup\n",
    "\n",
    "For this example, this notebook will run using the environment defined by the `Manifest.toml` and `Project.toml` files within this `examples` folder.  If you wish to follow along and type these out on your local machine, you will need to set up a matching Julia environment. Since MimiBRICK is the only required package, this is most easily done with the following code in your REPL:"
   ]
  },
  {
   "cell_type": "markdown",
   "metadata": {},
   "source": [
    "`using Pkg`\n",
    "\n",
    "and \n",
    "\n",
    "`Pkg.add(MimiBRICK)\n",
    "\n",
    "\n",
    "or equivalently use the `]` key to enter the Pkg REPL, then `add MimiBRICK` followed by backspace to exit the Pkg REPL."
   ]
  },
  {
   "cell_type": "markdown",
   "metadata": {},
   "source": [
    "The following activates the environment within this notebook."
   ]
  },
  {
   "cell_type": "code",
   "execution_count": null,
   "metadata": {},
   "outputs": [],
   "source": [
    "# Activate the examples environment \n",
    "using Pkg # here in case you didn't need to run the above command to instantiate\n",
    "Pkg.activate(\".\")\n",
    "Pkg.instantiate()\n",
    "Pkg.status() # Check which packages are loaded"
   ]
  },
  {
   "cell_type": "markdown",
   "metadata": {},
   "source": [
    "Now we use the following to load `MimiBRICK`"
   ]
  },
  {
   "cell_type": "code",
   "execution_count": null,
   "metadata": {},
   "outputs": [],
   "source": [
    "using MimiBRICK"
   ]
  },
  {
   "cell_type": "markdown",
   "metadata": {},
   "source": [
    "### Step 2. Directories"
   ]
  },
  {
   "cell_type": "markdown",
   "metadata": {},
   "source": [
    "First we define and create the directory that will hold the results. In this case we will create a folder `calibration_results` in the current `examples` directory."
   ]
  },
  {
   "cell_type": "code",
   "execution_count": null,
   "metadata": {},
   "outputs": [],
   "source": [
    "my_output_dir = joinpath(@__DIR__, \"calibration_results\")\n",
    "\n",
    "# if the path already exists, clean it out\n",
    "isdir(my_output_dir) ? rm(my_output_dir, recursive = true) : nothing\n",
    "\n",
    "# recreate the folder\n",
    "mkpath(my_output_dir);"
   ]
  },
  {
   "cell_type": "markdown",
   "metadata": {},
   "source": [
    "### Step 3. Run Calibration"
   ]
  },
  {
   "cell_type": "markdown",
   "metadata": {},
   "source": [
    "\n",
    "The calibration that is done here follows the same general procedure as outlined in [Wong et al. (2017)](https://gmd.copernicus.org/articles/10/2741/2017/) and other works using BRICK. In particular, we:\n",
    "\n",
    "* run a Markov chain Monte Carlo calibration using 20 million iterations\n",
    "* remove at least 1 million iterations from the beginning of the Markov chain for burn-in\n",
    "  * the specific length depends on the model configuration; [Gelman and Rubin (1992)](https://projecteuclid.org/journals/statistical-science/volume-7/issue-4/Inference-from-Iterative-Simulation-Using-Multiple-Sequences/10.1214/ss/1177011136.full) potential scale reduction factor is checked < 1.1 for convergence\n",
    "* subsample 10,000 concomitant parameter sets from the remaining burned-in chain. These samples are used for the hindcast and projections for analysis\n",
    "\n",
    "This can all done by running the `examples/calibration_driver.jl` script. This script runs the `MimiBRICK.run_calibration` function three times: using `model_config=brick`, `doeclimbrick` and `sneasybrick`. If you want to verify that things are working properly but not wait hours for results, then **it is recommended that you try a shorter calibration, as we do here in this example notebook, and is achieved by by modifying the arguments for:**\n",
    "\n",
    "* `total_chain_length` - for the three configurations, 1 million iterations typically takes less than an hour on a standard modern (circa 2020) multi-core desktop computer. If you are just checking that things are working properly, doing 10,000 would of course be faster, and likely sufficient\n",
    "* `burnin_length` - this must be less than `total_chain_length`\n",
    "* `threshold_gr` - if you do a short test calibration, it will yell at you that some of the parameters' potential scale reduction factors are not less than this threshold. You don't need to do anything about it unless you are running your own new \"production\" calibration; just letting you know so you don't worry about it.\n",
    "* `size_subsample` - the size of the subsample generated so you don't have to tote around giant data sets of calibrated parameter values and model output; must be less than `total_chain_length - burnin_length`\n",
    "\n",
    "The `run_calibration` function will create a subfolder for the `model_config` in the user-defined `output_dir` (here we set it to `calibration_results`). Within that results directory, you will find:\n",
    "\n",
    "* `parameters_full_chain_(model_config).csv` - the full Markov chain of parameter samples, including the burn-in period\n",
    "* `mcmc_log_post_(model_config).csv` - the log-posterior scores (numerator from Bayes' theorem) for the full chain of parameter samples\n",
    "* `parameters_subsample_(model_config).csv` - the parameter values in the sub-sample for analysis\n",
    "* `log_post_subsample_(model_config).csv` - the log-posterior scores for the sub-sample of parameters for analysis. This is used to determine the maximum _a posteriori_ simulation\n",
    "* `proposal_covariance_matrix_(model_config).csv` - the final proposal covariance matrix for the adaptive proposals. If you use this and the final sample of parameters from `parameters_full_chain_(model_config).csv`, you can restart the Markov chain calibration. This and the last iteration of the Markov chain are both saved under the `calibration_data/from_calibration_chains` subdirectory.\n",
    "* `mcmc_acceptance_rate_(model_config).csv` - the acceptance rate from the MCMC algorithm. Should be about 0.23 for the numbers of parameters (dimension) that we're dealing with here.\n",
    "\n",
    "Note that calibrations of 20 million iterations will take multiple hours to complete.\n",
    "* For BRICK on its own, this took about 8 hours on a standard desktop workstation (ca. 2020)\n",
    "* For DOECLIM-BRICK and SNEASY-BRICK, this will take closer to 15 hours or so (using that same machine)"
   ]
  },
  {
   "cell_type": "markdown",
   "metadata": {},
   "source": [
    "The full function signature for `MimiBRICK.run_calibration` is as follows:\n",
    "\n",
    "        run_calibration(;   output_dir::String, \n",
    "                            model_config=\"brick\", \n",
    "                            calibration_start_year=1850, \n",
    "                            calibration_end_year=2005,\n",
    "                            total_chain_length=1000, \n",
    "                            burnin_length=0, \n",
    "                            threshold_gr=1.1, \n",
    "                            num_walkers=2,\n",
    "                            size_subsample=1000, \n",
    "                            start_from_priors=false,\n",
    "                            calibration_data_dir::Union{String, Nothing} = nothing\n",
    "                        )"
   ]
  },
  {
   "cell_type": "markdown",
   "metadata": {},
   "source": [
    "Next we define various settings for the `MimiBRICK.run_calibration` function. Note that if you do not wish to change the default setting, then the argument can be excluded from the call. We include them below for illustrative purposes."
   ]
  },
  {
   "cell_type": "code",
   "execution_count": null,
   "metadata": {},
   "outputs": [],
   "source": [
    "model_config            = \"brick\"\n",
    "total_chain_length      = 1000\n",
    "burnin_length           = 0\n",
    "threshold_gr            = 1.1\n",
    "size_subsample          = 100\n",
    "calibration_start_year  = 1850\n",
    "calibration_end_year    = 2017\n",
    "num_walkers             = 2\n",
    "start_from_priors       = false;"
   ]
  },
  {
   "cell_type": "markdown",
   "metadata": {},
   "source": [
    "Note that to produce the results hosted on [Zenodo](https://zenodo.org/record/6626335), different settings were used such that the process takes over 8 hours.  Specifically, the `total_chain_length` was set to `20_000_000` (20 million) and `size_subsample` to `10_000` (ten thousand). With only `total_chain_length = 1000`, this should only take a few minutes.\n",
    "\n",
    "Next we run the calibration!"
   ]
  },
  {
   "cell_type": "code",
   "execution_count": null,
   "metadata": {},
   "outputs": [],
   "source": [
    "MimiBRICK.run_calibration(  output_dir=my_output_dir, \n",
    "                            model_config=model_config, \n",
    "                            calibration_start_year=calibration_start_year, \n",
    "                            calibration_end_year=calibration_end_year,\n",
    "                            total_chain_length=total_chain_length, \n",
    "                            burnin_length=burnin_length, \n",
    "                            threshold_gr=threshold_gr, \n",
    "                            num_walkers=num_walkers,\n",
    "                            size_subsample=size_subsample, \n",
    "                            start_from_priors=start_from_priors\n",
    "                        );"
   ]
  },
  {
   "cell_type": "markdown",
   "metadata": {},
   "source": [
    "\n",
    "The `run_calibration` function will create a subfolder for the `model_config` in the user-defined `output_dir` with a host of output files. "
   ]
  },
  {
   "cell_type": "markdown",
   "metadata": {},
   "source": [
    "### Step 4. Run Hindcast and Projections\n",
    "\n",
    "_for more details on these steps see HindcastProjections_Example.ipynb_"
   ]
  },
  {
   "cell_type": "markdown",
   "metadata": {},
   "source": [
    "First we run the hindcast period 1850-2017 using the `MimiBRICK.run_hindcast` function, for `model_config = brick`. For the hindcast, no RCP scenario needs to be specified, because all of them follow historical radiative forcing/emissions trends up to 2005, and they diverge by only a little bit in the next few years.\n",
    "\n",
    "The standard set of parameters that are being used for the hindcast and projection simulations are the sub-sample of 10,000 from the MCMC calibration described above (`parameters_subsample_(model_config).csv`).\n",
    "\n",
    "This script will add model configuration-specific directory that was constructed above (or came with the model codes). It will create a sub-directory called `hindcast_csv` which will be populated with CSV files that include the simulated hindcasts of the model output fields. Each of these names is appended with `model_config` (`brick`, `doeclimbrick`, or `sneasybrick`) and contains one hindcast simulation for each of the sets of parameters in the sub-sample for analysis. Rows correspond to different years (1850-2017 be default) and columns each correspond to different ensemble members."
   ]
  },
  {
   "cell_type": "code",
   "execution_count": null,
   "metadata": {},
   "outputs": [],
   "source": [
    "MimiBRICK.run_hindcast(output_dir=my_output_dir, model_config=model_config);"
   ]
  },
  {
   "cell_type": "markdown",
   "metadata": {},
   "source": [
    "Next we run the projections for the period 1850-2300 (but can be modified to any period between 1765 and 2300) by using the `MimiBRICK.run_projections` function, using `model_config=brick`, `doeclimbrick` or `sneasybrick` and `rcp_scenario=\"RCP26\"`, `\"RCP45\"`, `\"RCP60\"`, or `\"RCP85\"`. Note that the RCP scenario forcing files are all the same until 2005, and the provided stand-alone BRICK temperature and ocean heat forcing files cover the period 1850-2300. Those forcing files contain calibrated SNEASY model output for temperature and ocean heat uptake.\n",
    "\n",
    "This script will add to the model configuration-specific directory that was constructed above (or came with the model codes). It will create a sub-directory called `projections_csv`, and a sub-directory within there that is specific to each RCP scenario used will be created. The projections files are analogous to the hindcast files that are generated, and will populate the `projections_csv/[RCP scenario]` directory."
   ]
  },
  {
   "cell_type": "code",
   "execution_count": null,
   "metadata": {},
   "outputs": [],
   "source": [
    "MimiBRICK.run_projections(output_dir=my_output_dir, model_config=model_config);"
   ]
  },
  {
   "cell_type": "markdown",
   "metadata": {},
   "source": [
    "### Step 5. Downscale\n",
    "\n",
    "_for more details on these steps see Downscaling_Example.ipynb_"
   ]
  },
  {
   "cell_type": "markdown",
   "metadata": {},
   "source": [
    "Finally we use the `MimiBRICK.downscale_brick` function to downscale the BRICK global sea level projections to local. This uses the sea-level \"fingerprints\" of [Slangen et al. (2014)](https://link.springer.com/article/10.1007/s10584-014-1080-9). The downscaling routine will automatically create a subdirectory in the output directory called `localslr`. In this subdirectory, the routine will save an output file with the downscaled local mean sea level change model output.\n",
    "\n",
    "This example takes New York City, USA as a test case. Note that latitude (`lat`) must be provided as degrees North (-90 to 90) and longitude (`lon`) must be provided as degrees East (0 to 360)."
   ]
  },
  {
   "cell_type": "code",
   "execution_count": null,
   "metadata": {},
   "outputs": [],
   "source": [
    "# Lat and Lon for New York City\n",
    "lat=40.7128 # deg N\n",
    "lon=360-74.0060; # 74.0060 deg W"
   ]
  },
  {
   "cell_type": "markdown",
   "metadata": {},
   "source": [
    "We can run the hindcast and projections using the model simulations from above, downscaled for New York City, as follows. More information about the specific function arguments can be found in `Downscaling_Example.ipynb`."
   ]
  },
  {
   "cell_type": "code",
   "execution_count": null,
   "metadata": {},
   "outputs": [],
   "source": [
    "# downscale hindcast\n",
    "years, lsl_hind_ens=MimiBRICK.downscale_brick(lon=lon, lat=lat, results_dir=my_output_dir, proj_or_hind=\"hind\", ensemble_or_map=\"ensemble\", model_config=\"brick\", rcp_scenario=\"RCP85\");\n",
    "\n",
    "# downscale proejction\n",
    "years, lsl_proj_ens=MimiBRICK.downscale_brick(lon=lon, lat=lat, results_dir=my_output_dir, proj_or_hind=\"proj\", ensemble_or_map=\"ensemble\", model_config=\"brick\", rcp_scenario=\"RCP85\");"
   ]
  },
  {
   "cell_type": "markdown",
   "metadata": {},
   "source": [
    "#### "
   ]
  }
 ],
 "metadata": {
  "kernelspec": {
   "display_name": "Julia 1.6.7",
   "language": "julia",
   "name": "julia-1.6"
  },
  "language_info": {
   "file_extension": ".jl",
   "mimetype": "application/julia",
   "name": "julia",
   "version": "1.6.7"
  }
 },
 "nbformat": 4,
 "nbformat_minor": 2
}
