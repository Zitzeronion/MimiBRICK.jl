{
 "cells": [
  {
   "cell_type": "markdown",
   "metadata": {},
   "source": [
    "## MimiBRICK Calibration Example\n",
    "\n",
    "This notebook contain a examples of the calibration functionalities in the MimiBRICK.jl package."
   ]
  },
  {
   "cell_type": "markdown",
   "metadata": {},
   "source": [
    "### Step 1. Environment Setup\n",
    "\n",
    "For this example, this notebook will run using the environment defined by the `Manifest.toml` and \"Project.toml\" files within this `examples` folder.  If you wish to follow along and type these out on your local machine, you will need to set up a matching Julia environment with the same files.\n",
    "\n",
    "To do so, either add the packages listed in the `Project.toml` and printed below after `Pkg.status()`, or feel free to copy over the two environment files (`Project.toml` and `Manifest.toml`) onto your local machine and then activate the environment with either `Pkg.activate(\".\")` or `]` to enter the Pkg REPL followed by `activate .` and then a backspace to exict the Pkg REPL)."
   ]
  },
  {
   "cell_type": "code",
   "execution_count": 9,
   "metadata": {},
   "outputs": [
    {
     "name": "stderr",
     "output_type": "stream",
     "text": [
      "\u001b[32m\u001b[1m  Activating\u001b[22m\u001b[39m environment at `~/.julia/dev/MimiBRICK/examples/Project.toml`\n"
     ]
    },
    {
     "name": "stdout",
     "output_type": "stream",
     "text": [
      "\u001b[32m\u001b[1m      Status\u001b[22m\u001b[39m `~/.julia/dev/MimiBRICK/examples/Project.toml`\n",
      " \u001b[90m [5d742f6a] \u001b[39mCSVFiles v1.0.1\n",
      " \u001b[90m [a93c6f00] \u001b[39mDataFrames v1.3.4\n",
      " \u001b[90m [91f4afc7] \u001b[39mMimiBRICK v1.0.0-DEV `https://github.com/raddleverse/MimiBRICK.jl#master`\n",
      " \u001b[90m [3f1801d0] \u001b[39mMimiSNEASY v1.0.3-DEV `https://github.com/anthofflab/MimiSNEASY.jl#master`\n",
      " \u001b[90m [8dfed614] \u001b[39mTest\n"
     ]
    }
   ],
   "source": [
    "# Activate the examples environment \n",
    "using Pkg\n",
    "Pkg.activate(\".\")\n",
    "Pkg.status() # Check which packages are loaded"
   ]
  },
  {
   "cell_type": "code",
   "execution_count": 10,
   "metadata": {},
   "outputs": [],
   "source": [
    "using MimiBRICK"
   ]
  },
  {
   "cell_type": "markdown",
   "metadata": {},
   "source": [
    "### Step 2. Directories"
   ]
  },
  {
   "cell_type": "markdown",
   "metadata": {},
   "source": [
    "First we define and create the directory that will hold the results. In this case we will create a folder `results` in the current `examples` directory."
   ]
  },
  {
   "cell_type": "code",
   "execution_count": 11,
   "metadata": {},
   "outputs": [],
   "source": [
    "my_output_dir = joinpath(@__DIR__, \"results\")\n",
    "\n",
    "# if the path already exists, clean it out\n",
    "isdir(my_output_dir) ? rm(my_output_dir, recursive = true) : nothing\n",
    "\n",
    "# recreate the folder\n",
    "mkpath(my_output_dir);"
   ]
  },
  {
   "cell_type": "markdown",
   "metadata": {},
   "source": [
    "### Step 3. Run Calibration"
   ]
  },
  {
   "cell_type": "markdown",
   "metadata": {},
   "source": [
    "Next we define various settings for the `MimiBRICK.run_calibration` function. Note that if you do not wish to change the default setting, then the argument can be excluded from the call. We include them below for illustrative purposes."
   ]
  },
  {
   "cell_type": "code",
   "execution_count": 12,
   "metadata": {},
   "outputs": [],
   "source": [
    "model_config            = \"brick\"\n",
    "total_chain_length      = 1000\n",
    "burnin_length           = 0\n",
    "threshold_gr            = 1.1\n",
    "size_subsample          = 100\n",
    "calibration_start_year  = 1850\n",
    "calibration_end_year    = 2017\n",
    "num_walkers             = 2\n",
    "start_from_priors       = false;"
   ]
  },
  {
   "cell_type": "markdown",
   "metadata": {},
   "source": [
    "Note that to produce the results hosted on Zenodo, different settings were used such that the process takes over 8 hours.  Specifically, the `total_chain_length` was set to `20_000_000` (20 million) and `size_subsample` to `10_000` (ten thousand).\n",
    "\n",
    "Next we run the calibration!"
   ]
  },
  {
   "cell_type": "code",
   "execution_count": 13,
   "metadata": {},
   "outputs": [
    {
     "name": "stdout",
     "output_type": "stream",
     "text": [
      "Begin baseline calibration of brick model.\n",
      "\n"
     ]
    },
    {
     "name": "stderr",
     "output_type": "stream",
     "text": [
      "\r\u001b[32mProgress:  12%|█████                                    |  ETA: 0:00:01\u001b[39m\u001b[K\r\n",
      "\u001b[34m  acceptance_rate:  0.17355371900826447\u001b[39m\u001b[K\r\u001b[A"
     ]
    },
    {
     "name": "stderr",
     "output_type": "stream",
     "text": [
      "\n",
      "\r\u001b[K\u001b[A\r\u001b[32mProgress:  24%|█████████▊                               |  ETA: 0:00:01\u001b[39m\u001b[K\r\n",
      "\u001b[34m  acceptance_rate:  0.2489451476793249\u001b[39m\u001b[K\r\u001b[A"
     ]
    },
    {
     "name": "stderr",
     "output_type": "stream",
     "text": [
      "\n",
      "\r\u001b[K\u001b[A\r\u001b[32mProgress:  31%|████████████▌                            |  ETA: 0:00:01\u001b[39m\u001b[K\r\n",
      "\u001b[34m  acceptance_rate:  0.2777777777777778\u001b[39m\u001b[K\r\u001b[A"
     ]
    },
    {
     "name": "stderr",
     "output_type": "stream",
     "text": [
      "\n",
      "\r\u001b[K\u001b[A\r\u001b[32mProgress:  46%|██████████████████▊                      |  ETA: 0:00:01\u001b[39m\u001b[K\r\n",
      "\u001b[34m  acceptance_rate:  0.25820568927789933\u001b[39m\u001b[K\r\u001b[A"
     ]
    },
    {
     "name": "stderr",
     "output_type": "stream",
     "text": [
      "\n",
      "\r\u001b[K\u001b[A\r\u001b[32mProgress:  56%|███████████████████████▏                 |  ETA: 0:00:01\u001b[39m\u001b[K\r\n",
      "\u001b[34m  acceptance_rate:  0.26287744227353466\u001b[39m\u001b[K\r\u001b[A"
     ]
    },
    {
     "name": "stderr",
     "output_type": "stream",
     "text": [
      "\n",
      "\r\u001b[K\u001b[A\r\u001b[32mProgress:  66%|███████████████████████████              |  ETA: 0:00:01\u001b[39m\u001b[K\r\n",
      "\u001b[34m  acceptance_rate:  0.2681818181818182\u001b[39m\u001b[K\r\u001b[A"
     ]
    },
    {
     "name": "stderr",
     "output_type": "stream",
     "text": [
      "\n",
      "\r\u001b[K\u001b[A\r\u001b[32mProgress:  75%|██████████████████████████████▊          |  ETA: 0:00:00\u001b[39m\u001b[K\r\n",
      "\u001b[34m  acceptance_rate:  0.2663115845539281\u001b[39m\u001b[K\r\u001b[A"
     ]
    },
    {
     "name": "stderr",
     "output_type": "stream",
     "text": [
      "\n",
      "\r\u001b[K\u001b[A\r\u001b[32mProgress:  84%|██████████████████████████████████▌      |  ETA: 0:00:00\u001b[39m\u001b[K\r\n",
      "\u001b[34m  acceptance_rate:  0.26904761904761904\u001b[39m\u001b[K\r\u001b[A"
     ]
    },
    {
     "name": "stderr",
     "output_type": "stream",
     "text": [
      "\n",
      "\r\u001b[K\u001b[A\r\u001b[32mProgress:  93%|██████████████████████████████████████▏  |  ETA: 0:00:00\u001b[39m\u001b[K\r\n",
      "\u001b[34m  acceptance_rate:  0.2691065662002153\u001b[39m\u001b[K\r\u001b[A"
     ]
    },
    {
     "name": "stderr",
     "output_type": "stream",
     "text": [
      "\n",
      "\r\u001b[K\u001b[A\r\u001b[32mProgress: 100%|█████████████████████████████████████████| Time: 0:00:01\u001b[39m\u001b[K\r\n",
      "\u001b[34m  acceptance_rate:  0.269\u001b[39m\u001b[K\n"
     ]
    },
    {
     "name": "stdout",
     "output_type": "stream",
     "text": [
      "  1.399572 seconds (6.78 M allocations: 734.796 MiB, 18.28% gc time)\n",
      "WARNING: some parameter chains have Gelman and Rubin PSRF > 1.1\n",
      "sd_glaciers  1.22\n",
      "sd_greenland  2.2514\n",
      "sd_antarctic  2.4503\n",
      "sd_gmsl  1.0266\n",
      "rho_glaciers  1.0221\n",
      "rho_greenland  2.1145\n",
      "rho_antarctic  1.1686\n",
      "rho_gmsl  1.1214\n",
      "thermal_s0  1.0256\n",
      "greenland_v0  1.0412\n",
      "glaciers_v0  1.1978\n",
      "glaciers_s0  1.2321\n",
      "antarctic_s0  1.1782\n",
      "thermal_alpha  1.1662\n",
      "greenland_a  1.4581\n",
      "greenland_b  1.7487\n",
      "greenland_alpha  1.4281\n",
      "greenland_beta  1.1239\n",
      "glaciers_beta0  1.7041\n",
      "glaciers_n  1.4952\n",
      "anto_alpha  1.3233\n",
      "anto_beta  1.4826\n",
      "antarctic_gamma  1.3604\n",
      "antarctic_alpha  1.907\n",
      "antarctic_mu  1.8297\n",
      "antarctic_nu  1.6185\n",
      "antarctic_precip0  1.2997\n",
      "antarctic_kappa  1.6569\n",
      "antarctic_flow0  1.3208\n",
      "antarctic_runoff_height0  1.092\n",
      "antarctic_c  1.0042\n",
      "antarctic_bed_height0  1.1475\n",
      "antarctic_slope  1.0109\n",
      "antarctic_lambda  1.0447\n",
      "antarctic_temp_threshold  1.4784\n",
      "Saving calibrated parameters for brick.\n",
      "\n"
     ]
    }
   ],
   "source": [
    "MimiBRICK.run_calibration(  output_dir=my_output_dir, \n",
    "                            model_config=model_config, \n",
    "                            calibration_start_year=calibration_start_year, \n",
    "                            calibration_end_year=calibration_end_year,\n",
    "                            total_chain_length=total_chain_length, \n",
    "                            burnin_length=burnin_length, \n",
    "                            threshold_gr=threshold_gr, \n",
    "                            num_walkers=num_walkers,\n",
    "                            size_subsample=size_subsample, \n",
    "                            start_from_priors=start_from_priors\n",
    "                        );"
   ]
  },
  {
   "cell_type": "markdown",
   "metadata": {},
   "source": [
    "\n",
    "The `run_calibration` function will create a subfolder for the `model_config` in the user-defined `output_dir` with a host of output files. "
   ]
  },
  {
   "cell_type": "markdown",
   "metadata": {},
   "source": [
    "### Step 4. Run Hindcast and Projections"
   ]
  },
  {
   "cell_type": "markdown",
   "metadata": {},
   "source": [
    "First we run the hindcast period 1850-2017 using the `MimiBRICK.run_hindcast` function, for `model_config = brick`. For the hindcast, no RCP scenario needs to be specified, because all of them follow historical radiative forcing/emissions trends up to 2005.\n",
    "\n",
    "The standard set of parameters that are being used for the hindcast and projection simulations are the sub-sample of 10,000 from the MCMC calibration described above (`parameters_subsample_(model_config).csv`). If you have a different parameter file that you want to run the hindcasts under, you will want to modify the section of `run_hindcast.jl` titled `Set paths for results files` (line 41).\n",
    "\n",
    "This script will add model configuration-specific directory that was constructed above (or came with the model codes). It will create a sub-directory called `hindcast_csv` which will be populated with CSV files that include the simulated hindcasts of the model output fields. Each of these names is appended with `model_config` (`brick`, `doeclimbrick`, or `sneasybrick`) and contains one hindcast simulation for each of the sets of parameters in the sub-sample for analysis. Rows correspond to different years (1850-2017 be default) and columns each correspond to different ensemble members."
   ]
  },
  {
   "cell_type": "code",
   "execution_count": 14,
   "metadata": {},
   "outputs": [],
   "source": [
    "MimiBRICK.run_hindcast(output_dir=my_output_dir, model_config=model_config);"
   ]
  },
  {
   "cell_type": "markdown",
   "metadata": {},
   "source": [
    "Next we run the projections for the period 1850-2300 (but can be modified to any period between 1765 and 2300) by using the `MimiBRICK.run_projections` function, using `model_config=brick`, `doeclimbrick` or `sneasybrick` and `rcp_scenario=\"RCP26\"`, `\"RCP45\"`, `\"RCP60\"`, or `\"RCP85\"`. Note that the RCP scenario forcing files are all the same until 2005, and the provided stand-alone BRICK temperature and ocean heat forcing files cover the period 1850-2300.\n",
    "\n",
    "This script will add to the model configuration-specific directory that was constructed above (or came with the model codes). It will create a sub-directory called `projections_csv`, and a sub-directory within there that is specific to each RCP scenario used will be created. The projections files are analogous to the hindcast files that are generated, and will populate the `projections_csv/[RCP scenario]` directory."
   ]
  },
  {
   "cell_type": "code",
   "execution_count": 15,
   "metadata": {},
   "outputs": [],
   "source": [
    "MimiBRICK.run_projections(output_dir=my_output_dir, model_config=model_config);\n"
   ]
  },
  {
   "cell_type": "markdown",
   "metadata": {},
   "source": [
    "### Step 5. Downscale"
   ]
  },
  {
   "cell_type": "markdown",
   "metadata": {},
   "source": [
    "Finally we use the `MimiBRICK.downscale_brick` function to downscale the BRICK global sea level projections to local. This uses the sea-level \"fingerprints\" of [Slangen et al. (2014)](https://link.springer.com/article/10.1007/s10584-014-1080-9). The downscaling routine will automatically create a subdirectory in the output directory called `localslr`. In this subdirectory, the routine will save an output file with the downscaled local mean sea level change model output."
   ]
  },
  {
   "cell_type": "code",
   "execution_count": 17,
   "metadata": {},
   "outputs": [],
   "source": [
    "# Lat and Lon for New York City\n",
    "lat=40.7128 # deg N\n",
    "lon=360-74.0060; # 74.0060 deg W"
   ]
  },
  {
   "cell_type": "code",
   "execution_count": 19,
   "metadata": {},
   "outputs": [],
   "source": [
    "# downscale hindcast\n",
    "years, lsl_hind_ens=MimiBRICK.downscale_brick(lon=lon, lat=lat, results_dir=my_output_dir, proj_or_hind=\"hind\", ensemble_or_map=\"ensemble\", model_config=\"brick\", rcp_scenario=\"RCP85\");\n",
    "\n",
    "# downscale proejction\n",
    "years, lsl_proj_ens=MimiBRICK.downscale_brick(lon=lon, lat=lat, results_dir=my_output_dir, proj_or_hind=\"proj\", ensemble_or_map=\"ensemble\", model_config=\"brick\", rcp_scenario=\"RCP85\");"
   ]
  },
  {
   "cell_type": "markdown",
   "metadata": {},
   "source": [
    "#### "
   ]
  }
 ],
 "metadata": {
  "kernelspec": {
   "display_name": "Julia 1.6.6",
   "language": "julia",
   "name": "julia-1.6"
  },
  "language_info": {
   "file_extension": ".jl",
   "mimetype": "application/julia",
   "name": "julia",
   "version": "1.6.6"
  },
  "orig_nbformat": 4
 },
 "nbformat": 4,
 "nbformat_minor": 2
}
